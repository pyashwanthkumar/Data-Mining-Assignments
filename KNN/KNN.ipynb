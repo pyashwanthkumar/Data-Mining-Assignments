{
 "cells": [
  {
   "cell_type": "markdown",
   "metadata": {
    "collapsed": true
   },
   "source": [
    "# Homework 2 : Implementation of KNN Classifier on Income Data Set\n",
    "\n",
    "* This note book contains sections:\n",
    "    1. Preprocessing the data for implementing KNN\n",
    "    2. Functions that are used for the similarities\n",
    "    3. KNN algorithm\n",
    "    4. Evaluation of Classifier using weighted distances\n",
    "    5. Evaluation of Classifier using Majority votes\n",
    "    6. ROC curves, for vaious values of k and different proximity functions, ROC curves are plotted to choose the curve with max area under ROC curve\n",
    "    7. Applying our algorithm on training data\n",
    "    8. Comparing KNN to an off the shelf classifier"
   ]
  },
  {
   "cell_type": "code",
   "execution_count": 1,
   "metadata": {
    "collapsed": true
   },
   "outputs": [],
   "source": [
    "# importing all the required packages \n",
    "import pandas as pd\n",
    "import numpy as np \n",
    "import matplotlib.pyplot as plt\n",
    "%matplotlib inline"
   ]
  },
  {
   "cell_type": "markdown",
   "metadata": {},
   "source": [
    "* Importing the data from the csv files."
   ]
  },
  {
   "cell_type": "code",
   "execution_count": 2,
   "metadata": {
    "collapsed": false
   },
   "outputs": [],
   "source": [
    "train = pd.read_csv(\"income_tr.csv\")\n",
    "test = pd.read_csv(\"income_te.csv\")"
   ]
  },
  {
   "cell_type": "markdown",
   "metadata": {},
   "source": [
    "# 1. Preprocessing\n",
    "\n",
    "* Since we already did the data analysis in HW1, for the sake of keeping this notebook short we will skip the EDA.\n",
    "* Let us implement all the preprocessing techniques we used for the homework1\n",
    "* First, we will scale the data of train and test data set for the attributes 'age', 'fnlwgt', 'hour_per_week'"
   ]
  },
  {
   "cell_type": "code",
   "execution_count": 3,
   "metadata": {
    "collapsed": false
   },
   "outputs": [],
   "source": [
    "train[['age','fnlwgt','hour_per_week']] = train[['age','fnlwgt','hour_per_week']].apply(lambda x : (x - np.min(x)) / (np.max(x) - np.min(x)))\n",
    "test[['age','fnlwgt','hour_per_week']] = test[['age','fnlwgt','hour_per_week']].apply(lambda x : (x - np.min(x)) / (np.max(x) - np.min(x)))"
   ]
  },
  {
   "cell_type": "markdown",
   "metadata": {},
   "source": [
    "* If we remember correctly, we decided that education and education_cat are the same attributes and hence we decided to drop education. \n",
    "* ID will not contribute to the classification and hence we can drop ID.\n",
    "* These changes are done to both the test set and the training set."
   ]
  },
  {
   "cell_type": "code",
   "execution_count": 4,
   "metadata": {
    "collapsed": true
   },
   "outputs": [],
   "source": [
    "train.drop(\"education\", axis = 1, inplace = True)\n",
    "test.drop(\"education\", axis = 1, inplace = True)\n",
    "train.drop(\"ID\", axis = 1, inplace = True)\n",
    "test.drop(\"ID\", axis = 1, inplace = True)"
   ]
  },
  {
   "cell_type": "markdown",
   "metadata": {},
   "source": [
    "## Missing values\n",
    "\n",
    "* As we can recall, there were missing values in occupation, workclass and native_country attributes. We replace the missing values in occupation and workclass with Job_X and X and we replaced the missing values in native_country with the most frequent value."
   ]
  },
  {
   "cell_type": "code",
   "execution_count": 5,
   "metadata": {
    "collapsed": true
   },
   "outputs": [],
   "source": [
    "train[\"occupation\"].replace(to_replace =\"\\?\" , value = \"Job_X\", inplace = True, regex = True)\n",
    "train[\"workclass\"].replace(to_replace=\"\\?\", value = \"X\", inplace = True, regex=True)\n",
    "train[\"native_country\"].replace(to_replace = \"\\?\", value = \"United-States\", inplace = True, regex = True)"
   ]
  },
  {
   "cell_type": "markdown",
   "metadata": {},
   "source": [
    "### Encoding the class attribute values\n",
    "\n",
    "* To understand the class variable easily when we look at it, we will encode the values as either 0 or 1 in place of \">50\" or '<=50' respectively. This will help us easily to relate with True Positives, False Positives, True Negatives and False negatives and the confusion matrix."
   ]
  },
  {
   "cell_type": "code",
   "execution_count": 6,
   "metadata": {
    "collapsed": true
   },
   "outputs": [],
   "source": [
    "#replacing the class attribute values with 0 and 1 for training set\n",
    "train['class'].replace(to_replace = \"<=50\", value = 1, inplace = True, regex = True)\n",
    "train['class'].replace(to_replace = \">50\", value = 0, inplace = True, regex = True)\n",
    "#replacing the class attrubute values with 0 and 1 for test set\n",
    "test['class'].replace(to_replace = \"<=50\", value = 1, inplace = True, regex = True)\n",
    "test['class'].replace(to_replace = \">50\", value = 0, inplace = True, regex = True)"
   ]
  },
  {
   "cell_type": "markdown",
   "metadata": {},
   "source": [
    "* We will now seperate the class attribute into a seperate dataframe for both the training and the test set. Once we do that, we can drop the class attribute from train and test dataframes as it will be easy for us to use the off the shelf classifier."
   ]
  },
  {
   "cell_type": "code",
   "execution_count": 7,
   "metadata": {
    "collapsed": false
   },
   "outputs": [],
   "source": [
    "y_train = train[['class']]\n",
    "y_test = test[['class']]\n",
    "train.drop(\"class\", axis = 1, inplace = True)\n",
    "test.drop(\"class\", axis = 1, inplace = True)"
   ]
  },
  {
   "cell_type": "markdown",
   "metadata": {},
   "source": [
    "# 2. Functions\n",
    "\n",
    "* Let us now define the functions that are going to be useful our KNN classification. There are only two function required here i.e.\n",
    "    1. Nominal variable Similarity (nom_sim)\n",
    "    2. Ordinal variable Similarity (ord_sim)\n",
    "* We will include the distance calculation within the KNN algorithm itself."
   ]
  },
  {
   "cell_type": "code",
   "execution_count": 8,
   "metadata": {
    "collapsed": true
   },
   "outputs": [],
   "source": [
    "# This is the function for nominal similarity. Returns a distance equal to 0 if both are similar.\n",
    "def nom_sim(train, test):\n",
    "    if test == train:\n",
    "        return 0\n",
    "    else:\n",
    "        return 1"
   ]
  },
  {
   "cell_type": "code",
   "execution_count": 9,
   "metadata": {
    "collapsed": true
   },
   "outputs": [],
   "source": [
    "# This is the function for ordinal similarity. \n",
    "# The functions parameters are values of test and train data and the unique values of that attribute\n",
    "def ord_sim(train, test, n):\n",
    "    train = train - 1\n",
    "    test = test - 1\n",
    "    d = abs(train - test) / (n - 1)\n",
    "    return d"
   ]
  },
  {
   "cell_type": "markdown",
   "metadata": {},
   "source": [
    "# 3. KNN CLASSIFIER"
   ]
  },
  {
   "cell_type": "code",
   "execution_count": 10,
   "metadata": {
    "collapsed": false
   },
   "outputs": [],
   "source": [
    "targets = []\n",
    "targets_with_dist = []\n",
    "prob = []\n",
    "k = 17\n",
    "for i in range(len(test)):\n",
    "    distances = []\n",
    "    for j in range(len(train)):\n",
    "        # d here calculates the euclidian distance of three continuous attributes age, hour_per_week, fnlwgt\n",
    "        #d =  np.sqrt(np.sum(np.square(test[['age','fnlwgt', 'hour_per_week']].iloc[i,:] - train[['age','fnlwgt','hour_per_week']].iloc[j, :])))\n",
    "        \n",
    "        # d1, d2, d3 are the distances between the test and the training examples for the continuous attributes.\n",
    "    \n",
    "        d1 = np.abs(test['age'].iloc[i] - train['age'].iloc[j])        \n",
    "        d2 = np.abs(test['fnlwgt'].iloc[i] - train['fnlwgt'].iloc[j])        \n",
    "        d3 = np.abs(test['hour_per_week'].iloc[i] - train['hour_per_week'].iloc[j])        \n",
    "        \n",
    "        # a,b,c,d,e,f,g,h,t are the distances for the nominal attributes. For the the first assignment we used jaccard similarity\n",
    "        # for capital_gain and capital_loss. For this we will simply use nominal distance metric which is defined above. It simply\n",
    "        # implies that if two records are similar then the distance between them is 0. \n",
    "        \n",
    "        # distance calculation for all the nominal attributes\n",
    "        a = nom_sim(train[\"marital_status\"].iloc[j], test[\"marital_status\"].iloc[i])\n",
    "        b = nom_sim(train[\"occupation\"].iloc[j], test[\"occupation\"].iloc[i])\n",
    "        c = nom_sim(train[\"relationship\"].iloc[j], test[\"relationship\"].iloc[i])\n",
    "        d = nom_sim(train[\"race\"].iloc[j], test[\"race\"].iloc[i])\n",
    "        e = nom_sim(train[\"gender\"].iloc[j], test[\"gender\"].iloc[i])\n",
    "        f = nom_sim(train[\"native_country\"].iloc[j], test[\"native_country\"].iloc[i])\n",
    "        g = nom_sim(train[\"workclass\"].iloc[j], test[\"workclass\"].iloc[i])\n",
    "        h = nom_sim(train[\"capital_loss\"].iloc[j],test[\"capital_loss\"].iloc[i])\n",
    "        t = nom_sim(train[\"capital_gain\"].iloc[j],test[\"capital_gain\"].iloc[i])\n",
    "        \n",
    "        # s is the distance calculation for the ordinal attribute education_cat.\n",
    "        s = ord_sim(train[\"education_cat\"].iloc[j], test[\"education_cat\"].iloc[i], len(train[\"education_cat\"].unique()))\n",
    "        \n",
    "        # Commented out is the distance calculation if euclidian is included in the algorithm. \n",
    "#         distance = (d * 3 + a + b + c + d + e + f + g + h + t + s) / 13\n",
    "        \n",
    "        # Since we are calculating the manhattan path, we will only use d1, d2, d3\n",
    "        distance = (d1 + d2 + d3 + a + b + c + d + e + f + g + h + t + s) / 13\n",
    "        \n",
    "        # This will append the distances and give each distance an index, j here will act as an identifier\n",
    "        distances.append([distance, j])    \n",
    "        \n",
    "    # Sorting the distances for each test example\n",
    "    \n",
    "    distances = sorted(distances)\n",
    "    \n",
    "    # We will subset the k nearest neeighbors\n",
    "    \n",
    "    for l in range(k):\n",
    "        index = distances[l][1]\n",
    "        dist = distances[l][0]\n",
    "        targets_with_dist.append([dist, y_train.iloc[index]])\n",
    "        targets.append(y_train.iloc[index])\n",
    "#     prob.append([Counter(targets) , len(Counter(targets).most_common(21)[0][0])])    \n",
    "    #del distances"
   ]
  },
  {
   "cell_type": "markdown",
   "metadata": {
    "collapsed": true
   },
   "source": [
    "* We will input these k similar items into a dataframe *df_ksim* "
   ]
  },
  {
   "cell_type": "code",
   "execution_count": 11,
   "metadata": {
    "collapsed": false,
    "scrolled": true
   },
   "outputs": [],
   "source": [
    "k_similar = np.array(targets_with_dist)\n",
    "new_ksim = np.reshape((k_similar), (len(test),2*k))\n",
    "df_ksim = pd.DataFrame(data = new_ksim)"
   ]
  },
  {
   "cell_type": "markdown",
   "metadata": {},
   "source": [
    "# 4. Weighted distance\n",
    "\n",
    "* We will calculate the weighted distances for each nearest neighbor. We will then pick the class which has the highest ratio of the weights.\n",
    "* Along with the weighted distances, we will also count the number of ones and zeros for calculating the posterior probabilities for a given k."
   ]
  },
  {
   "cell_type": "code",
   "execution_count": 12,
   "metadata": {
    "collapsed": false
   },
   "outputs": [],
   "source": [
    "# count_1 and count_0 are lists which will append the number of ones and zeros\n",
    "count_1 = []\n",
    "count_0 = []\n",
    "\n",
    "## prob_1, prob_0 and prob are for the posteriors which will create a data frame\n",
    "prob = []\n",
    "\n",
    "# prob1 will append all the posterior probabilities of P(1|x)\n",
    "prob1 = []\n",
    "pred_class = []\n",
    "#pred list is for appending the weighted distance probabilities.\n",
    "pred = []\n",
    "\n",
    "\n",
    "# Looping through the data frame of size 288 x 2*k\n",
    "for i in range(len(df_ksim)):\n",
    "    avg_1 = 0\n",
    "    avg_0 = 0\n",
    "    c_0 = 0\n",
    "    c_1 = 0\n",
    "    d1 = 0\n",
    "    d2 = 0\n",
    "    for j in range(0,2*k-1,2):\n",
    "        if df_ksim[j+1][i] == 1:\n",
    "            # if distance = 0, it will return NaN values for 1/0. T0 avoid that we will include this condition\n",
    "            if df_ksim[j][i] == 0:\n",
    "                avg_1 = avg_1\n",
    "            else:\n",
    "                #calculating the inverse square of distances\n",
    "                d1 = 1/np.square(df_ksim[j][i])#np.exp(df_ksim[j][i])\n",
    "                avg_1 = d1 + avg_1\n",
    "            c_1 = c_1 + 1     \n",
    "        elif df_ksim[j+1][i] == 0:\n",
    "            if df_ksim[j][i] == 0:\n",
    "                avg_0 = avg_0\n",
    "            else:\n",
    "                d2 = 1/np.square(df_ksim[j][i])#np.exp(df_ksim[j][i])\n",
    "                avg_0 = d2 + avg_0\n",
    "            c_0 = c_0 + 1\n",
    "    prob_1 = (c_1/(c_1+c_0))\n",
    "    # Now we will append the posterior probabilities of 1 given X\n",
    "    prob1.append(prob_1)\n",
    "    prob_0 = (c_0/(c_1+c_0))\n",
    "    p = avg_1/(avg_1+avg_0)\n",
    "    q = avg_0/(avg_1+avg_0)\n",
    "    count_1.append(c_1)\n",
    "    count_0.append(c_0)\n",
    "    \n",
    "    \n",
    "    # posteriors for the m x 4 data frame\n",
    "    if prob_1 > prob_0:\n",
    "        prob.append(prob_1)\n",
    "        pred_class.append(1)\n",
    "    else:\n",
    "        prob.append(prob_0)\n",
    "        pred_class.append(0)\n",
    "\n",
    "    #This will append the class and the probabilities of weighted distances\n",
    "    if p > q:\n",
    "        pred.append([1,p])\n",
    "    else:\n",
    "        pred.append([0,q])"
   ]
  },
  {
   "cell_type": "markdown",
   "metadata": {},
   "source": [
    "## Genearting the M x 4 dataframe\n",
    "\n",
    "* Here class in the dataframe implies the actual class "
   ]
  },
  {
   "cell_type": "code",
   "execution_count": 13,
   "metadata": {
    "collapsed": false
   },
   "outputs": [],
   "source": [
    "Transaction_ID = list(range(1,289))\n",
    "tid = pd.DataFrame(Transaction_ID, columns=['Transaction_ID'])\n",
    "pred_class = pd.DataFrame(data = pred_class, columns=['Predicted Class'])\n",
    "prob = pd.DataFrame(data = prob, columns = ['Posterior Probabilities'])\n",
    "df_output = pd.concat((tid, y_test,pred_class,prob), axis=1)"
   ]
  },
  {
   "cell_type": "code",
   "execution_count": 14,
   "metadata": {
    "collapsed": false
   },
   "outputs": [
    {
     "data": {
      "text/html": [
       "<div>\n",
       "<table border=\"1\" class=\"dataframe\">\n",
       "  <thead>\n",
       "    <tr style=\"text-align: right;\">\n",
       "      <th></th>\n",
       "      <th>Transaction_ID</th>\n",
       "      <th>class</th>\n",
       "      <th>Predicted Class</th>\n",
       "      <th>Posterior Probabilities</th>\n",
       "    </tr>\n",
       "  </thead>\n",
       "  <tbody>\n",
       "    <tr>\n",
       "      <th>0</th>\n",
       "      <td>1</td>\n",
       "      <td>&lt;=50</td>\n",
       "      <td>&lt;=50</td>\n",
       "      <td>0.823529</td>\n",
       "    </tr>\n",
       "    <tr>\n",
       "      <th>1</th>\n",
       "      <td>2</td>\n",
       "      <td>&lt;=50</td>\n",
       "      <td>&lt;=50</td>\n",
       "      <td>0.823529</td>\n",
       "    </tr>\n",
       "    <tr>\n",
       "      <th>2</th>\n",
       "      <td>3</td>\n",
       "      <td>&gt;50</td>\n",
       "      <td>&lt;=50</td>\n",
       "      <td>0.588235</td>\n",
       "    </tr>\n",
       "    <tr>\n",
       "      <th>3</th>\n",
       "      <td>4</td>\n",
       "      <td>&lt;=50</td>\n",
       "      <td>&lt;=50</td>\n",
       "      <td>0.764706</td>\n",
       "    </tr>\n",
       "    <tr>\n",
       "      <th>4</th>\n",
       "      <td>5</td>\n",
       "      <td>&lt;=50</td>\n",
       "      <td>&lt;=50</td>\n",
       "      <td>0.823529</td>\n",
       "    </tr>\n",
       "  </tbody>\n",
       "</table>\n",
       "</div>"
      ],
      "text/plain": [
       "   Transaction_ID class Predicted Class  Posterior Probabilities\n",
       "0               1  <=50            <=50                 0.823529\n",
       "1               2  <=50            <=50                 0.823529\n",
       "2               3   >50            <=50                 0.588235\n",
       "3               4  <=50            <=50                 0.764706\n",
       "4               5  <=50            <=50                 0.823529"
      ]
     },
     "execution_count": 14,
     "metadata": {},
     "output_type": "execute_result"
    }
   ],
   "source": [
    "df_output['class'].replace(to_replace = 1, value = '<=50',inplace = True)\n",
    "df_output['class'].replace(to_replace = 0, value = '>50', inplace = True)\n",
    "df_output['Predicted Class'].replace(to_replace = 1, value = '<=50',inplace = True)\n",
    "df_output['Predicted Class'].replace(to_replace = 0, value = '>50', inplace = True)\n",
    "df_output.to_csv(\"Final DataFrame.csv\")\n",
    "df_output.head()"
   ]
  },
  {
   "cell_type": "code",
   "execution_count": 15,
   "metadata": {
    "collapsed": true
   },
   "outputs": [],
   "source": [
    "pred = pd.DataFrame(pred)"
   ]
  },
  {
   "cell_type": "markdown",
   "metadata": {},
   "source": [
    "## Computing True Positive, False Positive, True negative and False negative rates, Recall, Precision and F-Measure based on the weighted distances."
   ]
  },
  {
   "cell_type": "code",
   "execution_count": 16,
   "metadata": {
    "collapsed": false
   },
   "outputs": [
    {
     "name": "stdout",
     "output_type": "stream",
     "text": [
      "True Positive Rate(TPR) or Sensitivity: 0.8959276018099548\n",
      "True Negative Rate(TNR) or Specificity: 0.29850746268656714\n",
      "False Positive Rate(FPR): 0.7014925373134329\n",
      "False Negative Rate(FNR): 0.10407239819004525\n",
      "Precision :0.8081632653061225\n",
      "Recall :0.8959276018099548\n",
      "F-measure :0.8497854077253219\n"
     ]
    }
   ],
   "source": [
    "T1 = 0\n",
    "T0 = 0 \n",
    "F1 = 0\n",
    "F0 = 0\n",
    "for i in range(len(pred)):\n",
    "    if y_test['class'][i] == pred[0][i] and pred[0][i] == 1:\n",
    "        T1 = T1 + 1\n",
    "    if y_test['class'][i] == pred[0][i] and pred[0][i] == 0:\n",
    "        T0 = T0 + 1\n",
    "    if y_test['class'][i] != pred[0][i] and pred[0][i] == 1:\n",
    "        F1 = F1 + 1\n",
    "    if y_test['class'][i] != pred[0][i] and pred[0][i] == 0:\n",
    "        F0 = F0 + 1\n",
    "\n",
    "#True Positive Rate \n",
    "T1R = T1/(T1+F0)\n",
    "print(\"True Positive Rate(TPR) or Sensitivity: {}\".format(T1R))\n",
    "T0R = T0/(T0 + F1)\n",
    "print(\"True Negative Rate(TNR) or Specificity: {}\".format(T0R))\n",
    "F1R = F1/(F1 + T0)\n",
    "print(\"False Positive Rate(FPR): {}\".format(F1R))\n",
    "F0R = F0/(F0 + T1)\n",
    "print(\"False Negative Rate(FNR): {}\".format(F0R))\n",
    "prec = T1/(T1+F1)\n",
    "print(\"Precision :{}\".format(prec))\n",
    "r = T1/(T1+F0)\n",
    "print(\"Recall :{}\".format(r))\n",
    "F = 2*T1/(2*T1 + F1 + F0)\n",
    "print(\"F-measure :{}\".format(F))"
   ]
  },
  {
   "cell_type": "markdown",
   "metadata": {},
   "source": [
    "## Confusion Matrix for the weighted distance model"
   ]
  },
  {
   "cell_type": "code",
   "execution_count": 17,
   "metadata": {
    "collapsed": false
   },
   "outputs": [
    {
     "data": {
      "text/html": [
       "<div>\n",
       "<table border=\"1\" class=\"dataframe\">\n",
       "  <thead>\n",
       "    <tr style=\"text-align: right;\">\n",
       "      <th>Predicted Class =&gt;</th>\n",
       "      <th>&lt;=50</th>\n",
       "      <th>&gt;50</th>\n",
       "    </tr>\n",
       "    <tr>\n",
       "      <th>Actual Class</th>\n",
       "      <th></th>\n",
       "      <th></th>\n",
       "    </tr>\n",
       "  </thead>\n",
       "  <tbody>\n",
       "    <tr>\n",
       "      <th>&lt;=50</th>\n",
       "      <td>198</td>\n",
       "      <td>23</td>\n",
       "    </tr>\n",
       "    <tr>\n",
       "      <th>&gt;50</th>\n",
       "      <td>47</td>\n",
       "      <td>20</td>\n",
       "    </tr>\n",
       "  </tbody>\n",
       "</table>\n",
       "</div>"
      ],
      "text/plain": [
       "Predicted Class => <=50 >50\n",
       "Actual Class               \n",
       "<=50                198  23\n",
       ">50                  47  20"
      ]
     },
     "execution_count": 17,
     "metadata": {},
     "output_type": "execute_result"
    }
   ],
   "source": [
    "df = pd.DataFrame({'' : ('<=50','>50'),'>50':(str(F0),str(T0)),'<=50':(str(T1), str(F1))})\n",
    "df.index = df['']\n",
    "del df['']\n",
    "df.index.rename('Actual Class', inplace = True)\n",
    "df.columns.rename('Predicted Class =>', inplace = True)\n",
    "df"
   ]
  },
  {
   "cell_type": "markdown",
   "metadata": {},
   "source": [
    "## Weighted distance accuracy\n",
    "\n",
    "* For checking the accuracy of the model, let us import sklearn package.\n",
    "* We will import the metric accuracy_score from this package\n",
    "* The accuracy of the model with k = 23 is 0.7673 by using the weighted distance model which can be seen below"
   ]
  },
  {
   "cell_type": "code",
   "execution_count": 18,
   "metadata": {
    "collapsed": false
   },
   "outputs": [
    {
     "name": "stdout",
     "output_type": "stream",
     "text": [
      "0.756944444444\n"
     ]
    }
   ],
   "source": [
    "from sklearn.metrics import accuracy_score\n",
    "print(accuracy_score(y_test, pred[0]))"
   ]
  },
  {
   "cell_type": "markdown",
   "metadata": {},
   "source": [
    "# 5. Majority vote\n",
    "\n",
    "* Let us predict the class of the income variable using the majority vote, i.e. in a set of k neighbors we will pick the class that has more than 50% probability.\n",
    "* We will then calculate the accuracy and its performance measures."
   ]
  },
  {
   "cell_type": "code",
   "execution_count": 19,
   "metadata": {
    "collapsed": false
   },
   "outputs": [
    {
     "data": {
      "text/html": [
       "<div>\n",
       "<table border=\"1\" class=\"dataframe\">\n",
       "  <thead>\n",
       "    <tr style=\"text-align: right;\">\n",
       "      <th></th>\n",
       "      <th>pred_class</th>\n",
       "      <th>prob(1|x)</th>\n",
       "    </tr>\n",
       "  </thead>\n",
       "  <tbody>\n",
       "    <tr>\n",
       "      <th>0</th>\n",
       "      <td>1</td>\n",
       "      <td>0.823529</td>\n",
       "    </tr>\n",
       "    <tr>\n",
       "      <th>1</th>\n",
       "      <td>1</td>\n",
       "      <td>0.823529</td>\n",
       "    </tr>\n",
       "    <tr>\n",
       "      <th>2</th>\n",
       "      <td>1</td>\n",
       "      <td>0.588235</td>\n",
       "    </tr>\n",
       "    <tr>\n",
       "      <th>3</th>\n",
       "      <td>1</td>\n",
       "      <td>0.764706</td>\n",
       "    </tr>\n",
       "    <tr>\n",
       "      <th>4</th>\n",
       "      <td>1</td>\n",
       "      <td>0.823529</td>\n",
       "    </tr>\n",
       "  </tbody>\n",
       "</table>\n",
       "</div>"
      ],
      "text/plain": [
       "   pred_class  prob(1|x)\n",
       "0           1   0.823529\n",
       "1           1   0.823529\n",
       "2           1   0.588235\n",
       "3           1   0.764706\n",
       "4           1   0.823529"
      ]
     },
     "execution_count": 19,
     "metadata": {},
     "output_type": "execute_result"
    }
   ],
   "source": [
    "count_1 = pd.DataFrame(data=(count_1), columns = ['count_1'])\n",
    "count_0 = pd.DataFrame(data=(count_0), columns = ['count_0'])\n",
    "prob_1 = pd.DataFrame(data=(prob1), columns=['prob(1|x)'])\n",
    "count = pd.concat((count_1,count_0), axis = 1)\n",
    "pred2 = []\n",
    "for i in range(len(count)):\n",
    "    if count['count_1'][i] > count['count_0'][i]: \n",
    "        pred2.append([1])\n",
    "    else:\n",
    "        pred2.append([0])\n",
    "pred2 = pd.DataFrame(data = pred2, columns=['pred_class'])\n",
    "pred2 = pd.concat((pred2, prob_1), axis=1)\n",
    "pred2.head()"
   ]
  },
  {
   "cell_type": "markdown",
   "metadata": {},
   "source": [
    "## Accuracy of model for Majority vote system:"
   ]
  },
  {
   "cell_type": "code",
   "execution_count": 20,
   "metadata": {
    "collapsed": false
   },
   "outputs": [
    {
     "name": "stdout",
     "output_type": "stream",
     "text": [
      "0.78125\n"
     ]
    }
   ],
   "source": [
    "from sklearn.metrics import accuracy_score\n",
    "print(accuracy_score(y_test, pred2['pred_class']))"
   ]
  },
  {
   "cell_type": "markdown",
   "metadata": {},
   "source": [
    "### Computing True Positive, False Positive, True negative and False negative rates, Recall, Precision and F-Measure based on Majority votes"
   ]
  },
  {
   "cell_type": "code",
   "execution_count": 21,
   "metadata": {
    "collapsed": false
   },
   "outputs": [
    {
     "name": "stdout",
     "output_type": "stream",
     "text": [
      "True Positive Rate(TPR) or Sensitivity: 0.9276018099547512\n",
      "True Negative Rate(TNR) or Specificity: 0.29850746268656714\n",
      "False Positive Rate(FPR): 0.7014925373134329\n",
      "False Negative Rate(FNR): 0.07239819004524888\n",
      "Precision :0.8134920634920635\n",
      "Recall :0.9276018099547512\n",
      "F-measure :0.8668076109936576\n"
     ]
    }
   ],
   "source": [
    "T1 = 0\n",
    "T0 = 0 \n",
    "F1 = 0\n",
    "F0 = 0\n",
    "for i in range(len(pred2['pred_class'])):\n",
    "    if y_test['class'][i] == pred2['pred_class'][i] and pred2['pred_class'][i] == 1:\n",
    "        T1 = T1 + 1\n",
    "    if y_test['class'][i] == pred2['pred_class'][i] and pred2['pred_class'][i] == 0:\n",
    "        T0 = T0 + 1\n",
    "    if y_test['class'][i] != pred2['pred_class'][i] and pred2['pred_class'][i] == 1:\n",
    "        F1 = F1 + 1\n",
    "    if y_test['class'][i] != pred2['pred_class'][i] and pred2['pred_class'][i] == 0:\n",
    "        F0 = F0 + 1\n",
    "        \n",
    "#True Positive Rate \n",
    "T1R = T1/(T1+F0)\n",
    "print(\"True Positive Rate(TPR) or Sensitivity: {}\".format(T1R))\n",
    "T0R = T0/(T0 + F1)\n",
    "print(\"True Negative Rate(TNR) or Specificity: {}\".format(T0R))\n",
    "F1R = F1/(F1 + T0)\n",
    "print(\"False Positive Rate(FPR): {}\".format(F1R))\n",
    "F0R = F0/(F0 + T1)\n",
    "print(\"False Negative Rate(FNR): {}\".format(F0R))\n",
    "prec = T1/(T1+F1)\n",
    "print(\"Precision :{}\".format(prec))\n",
    "r = T1/(T1+F0)\n",
    "print(\"Recall :{}\".format(r))\n",
    "F = (2*T1)/(2*T1 + F1 + F0)\n",
    "print(\"F-measure :{}\".format(F))"
   ]
  },
  {
   "cell_type": "markdown",
   "metadata": {},
   "source": [
    "## Confusion matrix of un-weighted model"
   ]
  },
  {
   "cell_type": "code",
   "execution_count": 22,
   "metadata": {
    "collapsed": false
   },
   "outputs": [
    {
     "data": {
      "text/html": [
       "<div>\n",
       "<table border=\"1\" class=\"dataframe\">\n",
       "  <thead>\n",
       "    <tr style=\"text-align: right;\">\n",
       "      <th>Predicted Class =&gt;</th>\n",
       "      <th>&lt;=50</th>\n",
       "      <th>&gt;50</th>\n",
       "    </tr>\n",
       "    <tr>\n",
       "      <th>Actual Class</th>\n",
       "      <th></th>\n",
       "      <th></th>\n",
       "    </tr>\n",
       "  </thead>\n",
       "  <tbody>\n",
       "    <tr>\n",
       "      <th>&lt;=50</th>\n",
       "      <td>205</td>\n",
       "      <td>16</td>\n",
       "    </tr>\n",
       "    <tr>\n",
       "      <th>&gt;50</th>\n",
       "      <td>47</td>\n",
       "      <td>20</td>\n",
       "    </tr>\n",
       "  </tbody>\n",
       "</table>\n",
       "</div>"
      ],
      "text/plain": [
       "Predicted Class =>  <=50  >50\n",
       "Actual Class                 \n",
       "<=50                 205   16\n",
       ">50                   47   20"
      ]
     },
     "execution_count": 22,
     "metadata": {},
     "output_type": "execute_result"
    }
   ],
   "source": [
    "df = pd.DataFrame({'' : ('<=50','>50'),'>50':(F0,T0),'<=50':(T1, F1)})\n",
    "df.index = df['']\n",
    "del df['']\n",
    "df.index.rename('Actual Class', inplace = True)\n",
    "df.columns.rename('Predicted Class =>', inplace = True)\n",
    "df"
   ]
  },
  {
   "cell_type": "markdown",
   "metadata": {},
   "source": [
    "# 6.Plotting ROC curve\n",
    "* By varying the values of k between from 23 to 43 by increments of 10, distance metric i.e. either euclidian or manhattan on continuous attribute and the method of choosing the nearest neghbor.\n",
    "* Calculating different values for the ROC curve was difficult, plotting just 12 points took 45-55 minutes. Producing the roc curve with minimum data. We will select a point which will have major lift\n",
    "* Based on curve, we are getting a major lift at FPR = 0.70 and TPR = 0.93. These are the values obtained for k = 23, method of predicting class is by majority vote and Manhattan distance is used for calcualating the distance between test and training data.\n",
    "* The same proximity functions were used for the nominal and oridnal attributes. Proximity function for continuous attributes age, hour_per_week and fnlwgt were changed between euclidian to manhattan distance.\n"
   ]
  },
  {
   "cell_type": "code",
   "execution_count": 23,
   "metadata": {
    "collapsed": false
   },
   "outputs": [
    {
     "data": {
      "text/plain": [
       "<matplotlib.collections.PathCollection at 0x22f7aa894a8>"
      ]
     },
     "execution_count": 23,
     "metadata": {},
     "output_type": "execute_result"
    },
    {
     "data": {
      "image/png": "[encoded data removed]",
      "text/plain": [
       "<matplotlib.figure.Figure at 0x22f7a9f0978>"
      ]
     },
     "metadata": {},
     "output_type": "display_data"
    }
   ],
   "source": [
    "# Recorded this data into excel by varying the values of k, distance metric and the method of choosing the nearest neighbor\n",
    "data = [[0.68,0.9], [0.70,0.93], [0.75,0.9],[0.77,0.95],[0.49,0.64],[0.75,0.92],[0.48,0.65],[0.75,0.91],[0.49,0.65],[0.76,0.93],[0.73,0.91],[0.79,0.96]]\n",
    "data = sorted(data)\n",
    "fig = plt.figure()\n",
    "plt.xlim(0, 1.0)\n",
    "plt.ylim(0, 1.0)\n",
    "fig.suptitle(\"ROC CURVE\")\n",
    "plt.xlabel(\"FPR\")\n",
    "plt.ylabel(\"TPR\")\n",
    "x = [0,1]\n",
    "plt.plot(x,x)\n",
    "roc_df = pd.DataFrame(data = data)\n",
    "x  = roc_df[0]\n",
    "y = roc_df[1]\n",
    "plt.step(x,y)\n",
    "data\n",
    "plt.scatter(x,y)"
   ]
  },
  {
   "cell_type": "markdown",
   "metadata": {},
   "source": [
    "## ROC CURVE with sklearn (IMPORTANT TO LOOK AT WHAT DATA WE ARE USING FOR CALCULATIONS: REFER LINE 6 IN THE CODE BELOW)\n",
    "* As it is difficult to interpret the curve, we will use the curve plot from sklearn on our data. \n",
    "* In our dataframe *pred2* we have a column which has the posterior probabilities of 1 given x which means P(<=50 | X) for all the values of test examples. We will use this value in our functions below"
   ]
  },
  {
   "cell_type": "code",
   "execution_count": 24,
   "metadata": {
    "collapsed": false
   },
   "outputs": [
    {
     "data": {
      "text/plain": [
       "<matplotlib.legend.Legend at 0x22f7ae03b70>"
      ]
     },
     "execution_count": 24,
     "metadata": {},
     "output_type": "execute_result"
    },
    {
     "data": {
      "image/png": "[encoded data removed]",
      "text/plain": [
       "<matplotlib.figure.Figure at 0x22f7a9f0390>"
      ]
     },
     "metadata": {},
     "output_type": "display_data"
    }
   ],
   "source": [
    "from sklearn.metrics import roc_curve\n",
    "from sklearn.metrics import roc_auc_score\n",
    "from sklearn.metrics import auc\n",
    "\n",
    "# pred2['prob(1|x)'] is the important thing for our calculation of ROC CURVE\n",
    "fpr, tpr, thresholds = roc_curve(y_test, pred2['prob(1|x)'])\n",
    "roc_a = auc(fpr,tpr)\n",
    "roc_auc = roc_auc_score(y_test, pred2['pred_class'])\n",
    "plt.plot(fpr, tpr, label='ROC curve (area = %0.3f)' % roc_auc)\n",
    "plt.plot([0, 1], [0, 1], 'k--')  # random predictions curve\n",
    "plt.xlim([0.0, 1.0])\n",
    "plt.ylim([0.0, 1.0])\n",
    "plt.xlabel('False Positive Rate or (1 - Specifity)')\n",
    "plt.ylabel('True Positive Rate or (Sensitivity)')\n",
    "plt.title('Receiver Operating Characteristic')\n",
    "plt.legend(loc=\"lower right\")"
   ]
  },
  {
   "cell_type": "markdown",
   "metadata": {},
   "source": [
    "# 7. Implementing KNN classifier on income training data\n",
    "* We will add '_tr' to all the variable names and we will perform the majority vote to choose the class.\n",
    "* Also, we will comment out this block of code once we are done with evaluating the accuracy for conevenience of re-running the code for the initial part of the program."
   ]
  },
  {
   "cell_type": "code",
   "execution_count": 25,
   "metadata": {
    "collapsed": false
   },
   "outputs": [
    {
     "data": {
      "text/html": [
       "<div>\n",
       "<table border=\"1\" class=\"dataframe\">\n",
       "  <thead>\n",
       "    <tr style=\"text-align: right;\">\n",
       "      <th></th>\n",
       "      <th>pred_class</th>\n",
       "      <th>prob(1|x)</th>\n",
       "    </tr>\n",
       "  </thead>\n",
       "  <tbody>\n",
       "    <tr>\n",
       "      <th>0</th>\n",
       "      <td>1</td>\n",
       "      <td>0.826087</td>\n",
       "    </tr>\n",
       "    <tr>\n",
       "      <th>1</th>\n",
       "      <td>1</td>\n",
       "      <td>0.782609</td>\n",
       "    </tr>\n",
       "    <tr>\n",
       "      <th>2</th>\n",
       "      <td>1</td>\n",
       "      <td>1.000000</td>\n",
       "    </tr>\n",
       "    <tr>\n",
       "      <th>3</th>\n",
       "      <td>1</td>\n",
       "      <td>1.000000</td>\n",
       "    </tr>\n",
       "    <tr>\n",
       "      <th>4</th>\n",
       "      <td>1</td>\n",
       "      <td>0.956522</td>\n",
       "    </tr>\n",
       "  </tbody>\n",
       "</table>\n",
       "</div>"
      ],
      "text/plain": [
       "   pred_class  prob(1|x)\n",
       "0           1   0.826087\n",
       "1           1   0.782609\n",
       "2           1   1.000000\n",
       "3           1   1.000000\n",
       "4           1   0.956522"
      ]
     },
     "execution_count": 25,
     "metadata": {},
     "output_type": "execute_result"
    }
   ],
   "source": [
    "targets = []\n",
    "targets_with_dist_tr = []\n",
    "prob = []\n",
    "k = 23\n",
    "for i in range(len(train)):\n",
    "    distances_tr = []\n",
    "    for j in range(len(train)):\n",
    "        # d_tr here calculates the euclidian distance of three continuous attributes age, hour_per_week, fnlwgt\n",
    "        # d_tr =  np.sqrt(np.sum(np.square(test[['age','fnlwgt', 'hour_per_week']].iloc[i,:] - train[['age','fnlwgt','hour_per_week']].iloc[j, :])))\n",
    "        \n",
    "        # d1_tr, d2_tr, d3_tr are the distances between the test and the training examples for the continuous attributes.\n",
    "    \n",
    "        d1_tr = np.abs(train['age'].iloc[i] - train['age'].iloc[j])        \n",
    "        d2_tr = np.abs(train['fnlwgt'].iloc[i] - train['fnlwgt'].iloc[j])        \n",
    "        d3_tr = np.abs(train['hour_per_week'].iloc[i] - train['hour_per_week'].iloc[j])        \n",
    "        \n",
    "        # a,b,c,d,e,f,g,h,t are the distances for the nominal attributes. For the the first assignment we used jaccard similarity\n",
    "        # for capital_gain and capital_loss. For this we will simply use nominal distance metric which is defined above. It simply\n",
    "        # implies that if two records are similar then the distance between them is 0. \n",
    "        \n",
    "        # distance calculation for all the nominal attributes\n",
    "        a_tr = nom_sim(train[\"marital_status\"].iloc[j], train[\"marital_status\"].iloc[i])\n",
    "        b_tr = nom_sim(train[\"occupation\"].iloc[j], train[\"occupation\"].iloc[i])\n",
    "        c_tr = nom_sim(train[\"relationship\"].iloc[j], train[\"relationship\"].iloc[i])\n",
    "        d_tr = nom_sim(train[\"race\"].iloc[j], train[\"race\"].iloc[i])\n",
    "        e_tr = nom_sim(train[\"gender\"].iloc[j], train[\"gender\"].iloc[i])\n",
    "        f_tr = nom_sim(train[\"native_country\"].iloc[j], train[\"native_country\"].iloc[i])\n",
    "        g_tr = nom_sim(train[\"workclass\"].iloc[j], train[\"workclass\"].iloc[i])\n",
    "        h_tr = nom_sim(train[\"capital_loss\"].iloc[j],train[\"capital_loss\"].iloc[i])\n",
    "        t_tr = nom_sim(train[\"capital_gain\"].iloc[j],train[\"capital_gain\"].iloc[i])\n",
    "        \n",
    "        # s is the distance calculation for the ordinal attribute education_cat.\n",
    "        s_tr = ord_sim(train[\"education_cat\"].iloc[j], train[\"education_cat\"].iloc[i], len(train[\"education_cat\"].unique()))\n",
    "        \n",
    "        \n",
    "        # Since we are calculating the manhattan path, we will only use d1, d2, d3\n",
    "        distance_tr = (d1_tr + d2_tr + d3_tr + a_tr + b_tr + c_tr + d_tr + e_tr + f_tr + g_tr + h_tr + t_tr + s_tr) / 13\n",
    "        \n",
    "        # This will append the distances and give each distance an index, j here will act as an identifier\n",
    "        distances_tr.append([distance_tr, j])    \n",
    "        \n",
    "    # Sorting the distances for each test example\n",
    "    \n",
    "    distances_tr = sorted(distances_tr)\n",
    "    \n",
    "    # We will subset the k nearest neeighbors\n",
    "    \n",
    "    for l in range(k):\n",
    "        index_tr = distances_tr[l][1]\n",
    "        dist_tr = distances_tr[l][0]\n",
    "        targets_with_dist_tr.append([dist_tr, y_train.iloc[index_tr]])\n",
    "        targets.append(y_train.iloc[index])\n",
    "#     prob.append([Counter(targets) , len(Counter(targets).most_common(21)[0][0])])    \n",
    "k_similar_tr = np.array(targets_with_dist_tr)\n",
    "new_ksim_tr = np.reshape((k_similar_tr), (len(train),2*k))\n",
    "df_ksim_tr = pd.DataFrame(data = new_ksim_tr)\n",
    "\n",
    "\n",
    "# count_1 and count_0 are lists which will append the number of ones and zeros\n",
    "count_1 = []\n",
    "count_0 = []\n",
    "prob_1 = []\n",
    "pred_tr = []\n",
    "for i in range(len(df_ksim_tr)):\n",
    "    c_0 = 0\n",
    "    c_1 = 0\n",
    "    for j in range(0,2*k-1,2):\n",
    "        if df_ksim_tr[j+1][i] == 1:\n",
    "            c_1 = c_1 + 1 \n",
    "        elif df_ksim_tr[j+1][i] == 0:\n",
    "            c_0 = c_0 + 1\n",
    "    count_1.append(c_1)\n",
    "    count_0.append(c_0)\n",
    "    prob_1.append(c_1/(c_1+c_0))\n",
    "count_1 = pd.DataFrame(data=(count_1), columns = ['count_1'])\n",
    "count_0 = pd.DataFrame(data=(count_0), columns = ['count_0'])\n",
    "count = pd.concat((count_1,count_0), axis = 1)\n",
    "for i in range(len(count)):\n",
    "    if count['count_1'][i] > count['count_0'][i]:\n",
    "        pred_tr.append([1])\n",
    "    else:\n",
    "        pred_tr.append([0])\n",
    "pred_tr = pd.DataFrame(data = pred_tr)\n",
    "\n",
    "\n",
    "\n",
    "count_1 = pd.DataFrame(data=(count_1), columns = ['count_1'])\n",
    "count_0 = pd.DataFrame(data=(count_0), columns = ['count_0'])\n",
    "prob_1 = pd.DataFrame(data=(prob_1), columns=['prob(1|x)'])\n",
    "count = pd.concat((count_1,count_0), axis = 1)\n",
    "pred2_tr = []\n",
    "for i in range(len(count)):\n",
    "    if count['count_1'][i] > count['count_0'][i]: \n",
    "        pred2_tr.append([1])\n",
    "    else:\n",
    "        pred2_tr.append([0])\n",
    "pred2_tr = pd.DataFrame(data = pred2_tr, columns=['pred_class'])\n",
    "pred2_tr = pd.concat((pred2_tr, prob_1), axis=1)\n",
    "pred2_tr.head()"
   ]
  },
  {
   "cell_type": "markdown",
   "metadata": {},
   "source": [
    "### Accuracy on training data\n",
    "* As we can see our algorithm returned an accuracy of 84.6% on the training data"
   ]
  },
  {
   "cell_type": "code",
   "execution_count": 26,
   "metadata": {
    "collapsed": false
   },
   "outputs": [
    {
     "name": "stdout",
     "output_type": "stream",
     "text": [
      "0.846153846154\n"
     ]
    }
   ],
   "source": [
    "from sklearn.metrics import accuracy_score\n",
    "print(accuracy_score(y_train, pred2_tr['pred_class']))"
   ]
  },
  {
   "cell_type": "markdown",
   "metadata": {},
   "source": [
    "# 8. OFF-THE-SHELF\n",
    "\n",
    "* Let us use the knn classifier from sklearn.neigbors.\n",
    "* Since we cannot use different distance metric on the different types of attribute available, we will encode every nominal variable and then simply calculate their distances.\n",
    "* We will use the weighted distances for and the uniform weights to see the difference."
   ]
  },
  {
   "cell_type": "code",
   "execution_count": 27,
   "metadata": {
    "collapsed": false
   },
   "outputs": [],
   "source": [
    "# importing the classifier from sklearn\n",
    "from sklearn.neighbors import KNeighborsClassifier"
   ]
  },
  {
   "cell_type": "code",
   "execution_count": 28,
   "metadata": {
    "collapsed": false
   },
   "outputs": [],
   "source": [
    "#Identifying nominal features in test and training sets\n",
    "nominal_features_train = [f for f in train.columns if train[f].dtype.name == \"object\"]\n",
    "nominal_features_test = [f for f in test.columns if test[f].dtype.name == \"object\"]"
   ]
  },
  {
   "cell_type": "code",
   "execution_count": 29,
   "metadata": {
    "collapsed": false
   },
   "outputs": [],
   "source": [
    "# Identifying ratio features in test and training data sets\n",
    "ratio_features_train = set(train.columns) - set(nominal_features_train)\n",
    "ratio_features_test = set(test.columns) - set(nominal_features_test)"
   ]
  },
  {
   "cell_type": "markdown",
   "metadata": {},
   "source": [
    "* Encoding the records of nominal attributes for training data based on the unique values that are in each attribute."
   ]
  },
  {
   "cell_type": "code",
   "execution_count": 30,
   "metadata": {
    "collapsed": false,
    "scrolled": false
   },
   "outputs": [
    {
     "data": {
      "text/html": [
       "<div>\n",
       "<table border=\"1\" class=\"dataframe\">\n",
       "  <thead>\n",
       "    <tr style=\"text-align: right;\">\n",
       "      <th></th>\n",
       "      <th>age</th>\n",
       "      <th>workclass</th>\n",
       "      <th>fnlwgt</th>\n",
       "      <th>education_cat</th>\n",
       "      <th>marital_status</th>\n",
       "      <th>occupation</th>\n",
       "      <th>relationship</th>\n",
       "      <th>race</th>\n",
       "      <th>gender</th>\n",
       "      <th>capital_gain</th>\n",
       "      <th>capital_loss</th>\n",
       "      <th>hour_per_week</th>\n",
       "      <th>native_country</th>\n",
       "    </tr>\n",
       "  </thead>\n",
       "  <tbody>\n",
       "    <tr>\n",
       "      <th>0</th>\n",
       "      <td>0.323077</td>\n",
       "      <td>0</td>\n",
       "      <td>0.280977</td>\n",
       "      <td>9</td>\n",
       "      <td>0</td>\n",
       "      <td>0</td>\n",
       "      <td>0</td>\n",
       "      <td>0</td>\n",
       "      <td>0</td>\n",
       "      <td>0</td>\n",
       "      <td>0</td>\n",
       "      <td>0.391753</td>\n",
       "      <td>0</td>\n",
       "    </tr>\n",
       "    <tr>\n",
       "      <th>1</th>\n",
       "      <td>0.215385</td>\n",
       "      <td>0</td>\n",
       "      <td>0.123620</td>\n",
       "      <td>9</td>\n",
       "      <td>0</td>\n",
       "      <td>1</td>\n",
       "      <td>0</td>\n",
       "      <td>0</td>\n",
       "      <td>0</td>\n",
       "      <td>0</td>\n",
       "      <td>0</td>\n",
       "      <td>0.505155</td>\n",
       "      <td>0</td>\n",
       "    </tr>\n",
       "    <tr>\n",
       "      <th>2</th>\n",
       "      <td>0.138462</td>\n",
       "      <td>0</td>\n",
       "      <td>0.207971</td>\n",
       "      <td>9</td>\n",
       "      <td>1</td>\n",
       "      <td>2</td>\n",
       "      <td>1</td>\n",
       "      <td>1</td>\n",
       "      <td>1</td>\n",
       "      <td>0</td>\n",
       "      <td>0</td>\n",
       "      <td>0.391753</td>\n",
       "      <td>1</td>\n",
       "    </tr>\n",
       "    <tr>\n",
       "      <th>3</th>\n",
       "      <td>0.507692</td>\n",
       "      <td>1</td>\n",
       "      <td>0.120538</td>\n",
       "      <td>3</td>\n",
       "      <td>1</td>\n",
       "      <td>3</td>\n",
       "      <td>2</td>\n",
       "      <td>2</td>\n",
       "      <td>1</td>\n",
       "      <td>0</td>\n",
       "      <td>0</td>\n",
       "      <td>0.134021</td>\n",
       "      <td>0</td>\n",
       "    </tr>\n",
       "    <tr>\n",
       "      <th>4</th>\n",
       "      <td>0.276923</td>\n",
       "      <td>0</td>\n",
       "      <td>0.636417</td>\n",
       "      <td>9</td>\n",
       "      <td>1</td>\n",
       "      <td>0</td>\n",
       "      <td>2</td>\n",
       "      <td>0</td>\n",
       "      <td>1</td>\n",
       "      <td>0</td>\n",
       "      <td>0</td>\n",
       "      <td>0.391753</td>\n",
       "      <td>0</td>\n",
       "    </tr>\n",
       "  </tbody>\n",
       "</table>\n",
       "</div>"
      ],
      "text/plain": [
       "        age workclass    fnlwgt  education_cat marital_status occupation  \\\n",
       "0  0.323077         0  0.280977              9              0          0   \n",
       "1  0.215385         0  0.123620              9              0          1   \n",
       "2  0.138462         0  0.207971              9              1          2   \n",
       "3  0.507692         1  0.120538              3              1          3   \n",
       "4  0.276923         0  0.636417              9              1          0   \n",
       "\n",
       "  relationship race gender  capital_gain  capital_loss  hour_per_week  \\\n",
       "0            0    0      0             0             0       0.391753   \n",
       "1            0    0      0             0             0       0.505155   \n",
       "2            1    1      1             0             0       0.391753   \n",
       "3            2    2      1             0             0       0.134021   \n",
       "4            2    0      1             0             0       0.391753   \n",
       "\n",
       "  native_country  \n",
       "0              0  \n",
       "1              0  \n",
       "2              1  \n",
       "3              0  \n",
       "4              0  "
      ]
     },
     "execution_count": 30,
     "metadata": {},
     "output_type": "execute_result"
    }
   ],
   "source": [
    "for feature in nominal_features_train:\n",
    "    feature_unique = train[feature].unique()\n",
    "    train[feature] = train[feature].map(dict(\n",
    "        zip(feature_unique, range(len(feature_unique)))))\n",
    "train[nominal_features_train] = train[nominal_features_train].apply(lambda f: f.astype(\"category\"))\n",
    "train.head()"
   ]
  },
  {
   "cell_type": "markdown",
   "metadata": {},
   "source": [
    "* Encoding the records of nominal attributes for test data based on the unique values that are in each attribute."
   ]
  },
  {
   "cell_type": "code",
   "execution_count": 31,
   "metadata": {
    "collapsed": false
   },
   "outputs": [
    {
     "data": {
      "text/html": [
       "<div>\n",
       "<table border=\"1\" class=\"dataframe\">\n",
       "  <thead>\n",
       "    <tr style=\"text-align: right;\">\n",
       "      <th></th>\n",
       "      <th>age</th>\n",
       "      <th>workclass</th>\n",
       "      <th>fnlwgt</th>\n",
       "      <th>education_cat</th>\n",
       "      <th>marital_status</th>\n",
       "      <th>occupation</th>\n",
       "      <th>relationship</th>\n",
       "      <th>race</th>\n",
       "      <th>gender</th>\n",
       "      <th>capital_gain</th>\n",
       "      <th>capital_loss</th>\n",
       "      <th>hour_per_week</th>\n",
       "      <th>native_country</th>\n",
       "    </tr>\n",
       "  </thead>\n",
       "  <tbody>\n",
       "    <tr>\n",
       "      <th>0</th>\n",
       "      <td>0.237288</td>\n",
       "      <td>0</td>\n",
       "      <td>0.051917</td>\n",
       "      <td>10</td>\n",
       "      <td>0</td>\n",
       "      <td>0</td>\n",
       "      <td>0</td>\n",
       "      <td>0</td>\n",
       "      <td>0</td>\n",
       "      <td>0</td>\n",
       "      <td>1672</td>\n",
       "      <td>0.494845</td>\n",
       "      <td>0</td>\n",
       "    </tr>\n",
       "    <tr>\n",
       "      <th>1</th>\n",
       "      <td>0.694915</td>\n",
       "      <td>0</td>\n",
       "      <td>0.291349</td>\n",
       "      <td>11</td>\n",
       "      <td>1</td>\n",
       "      <td>1</td>\n",
       "      <td>1</td>\n",
       "      <td>0</td>\n",
       "      <td>1</td>\n",
       "      <td>0</td>\n",
       "      <td>0</td>\n",
       "      <td>0.391753</td>\n",
       "      <td>0</td>\n",
       "    </tr>\n",
       "    <tr>\n",
       "      <th>2</th>\n",
       "      <td>0.677966</td>\n",
       "      <td>1</td>\n",
       "      <td>0.244483</td>\n",
       "      <td>10</td>\n",
       "      <td>0</td>\n",
       "      <td>1</td>\n",
       "      <td>0</td>\n",
       "      <td>1</td>\n",
       "      <td>0</td>\n",
       "      <td>0</td>\n",
       "      <td>0</td>\n",
       "      <td>0.340206</td>\n",
       "      <td>0</td>\n",
       "    </tr>\n",
       "    <tr>\n",
       "      <th>3</th>\n",
       "      <td>0.322034</td>\n",
       "      <td>2</td>\n",
       "      <td>0.330674</td>\n",
       "      <td>9</td>\n",
       "      <td>0</td>\n",
       "      <td>2</td>\n",
       "      <td>0</td>\n",
       "      <td>0</td>\n",
       "      <td>0</td>\n",
       "      <td>0</td>\n",
       "      <td>0</td>\n",
       "      <td>0.340206</td>\n",
       "      <td>0</td>\n",
       "    </tr>\n",
       "    <tr>\n",
       "      <th>4</th>\n",
       "      <td>0.423729</td>\n",
       "      <td>0</td>\n",
       "      <td>0.301862</td>\n",
       "      <td>9</td>\n",
       "      <td>2</td>\n",
       "      <td>3</td>\n",
       "      <td>2</td>\n",
       "      <td>0</td>\n",
       "      <td>0</td>\n",
       "      <td>0</td>\n",
       "      <td>0</td>\n",
       "      <td>0.391753</td>\n",
       "      <td>1</td>\n",
       "    </tr>\n",
       "  </tbody>\n",
       "</table>\n",
       "</div>"
      ],
      "text/plain": [
       "        age workclass    fnlwgt  education_cat marital_status occupation  \\\n",
       "0  0.237288         0  0.051917             10              0          0   \n",
       "1  0.694915         0  0.291349             11              1          1   \n",
       "2  0.677966         1  0.244483             10              0          1   \n",
       "3  0.322034         2  0.330674              9              0          2   \n",
       "4  0.423729         0  0.301862              9              2          3   \n",
       "\n",
       "  relationship race gender  capital_gain  capital_loss  hour_per_week  \\\n",
       "0            0    0      0             0          1672       0.494845   \n",
       "1            1    0      1             0             0       0.391753   \n",
       "2            0    1      0             0             0       0.340206   \n",
       "3            0    0      0             0             0       0.340206   \n",
       "4            2    0      0             0             0       0.391753   \n",
       "\n",
       "  native_country  \n",
       "0              0  \n",
       "1              0  \n",
       "2              0  \n",
       "3              0  \n",
       "4              1  "
      ]
     },
     "execution_count": 31,
     "metadata": {},
     "output_type": "execute_result"
    }
   ],
   "source": [
    "for features in nominal_features_test:\n",
    "    features_unique = test[features].unique()\n",
    "    test[features] = test[features].map(dict(\n",
    "        zip(features_unique, range(len(features_unique)))))\n",
    "test[nominal_features_test] = test[nominal_features_test].apply(lambda f: f.astype(\"category\"))\n",
    "test.head()"
   ]
  },
  {
   "cell_type": "markdown",
   "metadata": {},
   "source": [
    "### Implementing the classifier\n",
    "* We will use the same k value that we obtained from the previous analysis. For this k, we observed area under curve of 0.635 which was the maximum noticed after varying the values of k."
   ]
  },
  {
   "cell_type": "code",
   "execution_count": 32,
   "metadata": {
    "collapsed": false
   },
   "outputs": [
    {
     "name": "stderr",
     "output_type": "stream",
     "text": [
      "C:\\Users\\Yashwanth\\Anaconda3\\lib\\site-packages\\ipykernel\\__main__.py:1: DataConversionWarning: A column-vector y was passed when a 1d array was expected. Please change the shape of y to (n_samples, ), for example using ravel().\n",
      "  if __name__ == '__main__':\n",
      "C:\\Users\\Yashwanth\\Anaconda3\\lib\\site-packages\\ipykernel\\__main__.py:2: DataConversionWarning: A column-vector y was passed when a 1d array was expected. Please change the shape of y to (n_samples, ), for example using ravel().\n",
      "  from ipykernel import kernelapp as app\n"
     ]
    }
   ],
   "source": [
    "knn = KNeighborsClassifier(n_neighbors=17,weights='distance', p = 1).fit(train, y_train)\n",
    "probas = KNeighborsClassifier(n_neighbors=17,weights='distance', p = 1).fit(train, y_train).predict_proba(test)"
   ]
  },
  {
   "cell_type": "markdown",
   "metadata": {},
   "source": [
    "### Accuracy of the model"
   ]
  },
  {
   "cell_type": "code",
   "execution_count": 33,
   "metadata": {
    "collapsed": false
   },
   "outputs": [
    {
     "name": "stdout",
     "output_type": "stream",
     "text": [
      "0.798611111111\n"
     ]
    }
   ],
   "source": [
    "ots_knn = knn.predict(test)\n",
    "print(accuracy_score(y_test,ots_knn))"
   ]
  },
  {
   "cell_type": "markdown",
   "metadata": {},
   "source": [
    "## Confusion Matrix and Performance Measure"
   ]
  },
  {
   "cell_type": "code",
   "execution_count": 34,
   "metadata": {
    "collapsed": false
   },
   "outputs": [
    {
     "name": "stdout",
     "output_type": "stream",
     "text": [
      "True Positive Rate(TPR) or Sensitivity: 0.9411764705882353\n",
      "True Negative Rate(TNR) or specificity: 0.3283582089552239\n",
      "False Positive Rate(FPR): 0.6716417910447762\n",
      "False Negative Rate(FNR): 0.058823529411764705\n",
      "Precision :0.8221343873517787\n",
      "Recall :0.9411764705882353\n",
      "F-measure :0.8776371308016878\n",
      "\n",
      "CONFUSION MATRIX\n"
     ]
    },
    {
     "data": {
      "text/html": [
       "<div>\n",
       "<table border=\"1\" class=\"dataframe\">\n",
       "  <thead>\n",
       "    <tr style=\"text-align: right;\">\n",
       "      <th>Predicted Class =&gt;</th>\n",
       "      <th>&lt;=50</th>\n",
       "      <th>&gt;50</th>\n",
       "    </tr>\n",
       "    <tr>\n",
       "      <th>Actual Class</th>\n",
       "      <th></th>\n",
       "      <th></th>\n",
       "    </tr>\n",
       "  </thead>\n",
       "  <tbody>\n",
       "    <tr>\n",
       "      <th>&lt;=50</th>\n",
       "      <td>208</td>\n",
       "      <td>13</td>\n",
       "    </tr>\n",
       "    <tr>\n",
       "      <th>&gt;50</th>\n",
       "      <td>45</td>\n",
       "      <td>22</td>\n",
       "    </tr>\n",
       "  </tbody>\n",
       "</table>\n",
       "</div>"
      ],
      "text/plain": [
       "Predicted Class =>  <=50  >50\n",
       "Actual Class                 \n",
       "<=50                 208   13\n",
       ">50                   45   22"
      ]
     },
     "execution_count": 34,
     "metadata": {},
     "output_type": "execute_result"
    }
   ],
   "source": [
    "from sklearn.metrics import confusion_matrix\n",
    "tn, fp, fn, tp = confusion_matrix(y_test,ots_knn).ravel()\n",
    "df_ots = pd.DataFrame({'' : ('<=50','>50'),'>50':(fn,tn),'<=50':(tp, fp)})\n",
    "df_ots.index = df_ots['']\n",
    "del df_ots['']\n",
    "df_ots.index.rename('Actual Class', inplace = True)\n",
    "df_ots.columns.rename('Predicted Class =>', inplace = True)\n",
    "tpr = tp/(tp+fn)\n",
    "print(\"True Positive Rate(TPR) or Sensitivity: {}\".format(tpr))\n",
    "tnr = tn/(tn + fp)\n",
    "print(\"True Negative Rate(TNR) or specificity: {}\".format(tnr))\n",
    "fpr = fp/(fp + tn)\n",
    "print(\"False Positive Rate(FPR): {}\".format(fpr))\n",
    "fnr = fn/(fn + tp)\n",
    "print(\"False Negative Rate(FNR): {}\".format(fnr))\n",
    "prec = tp/(tp+fp)\n",
    "print(\"Precision :{}\".format(prec))\n",
    "r = tp/(tp+fn)\n",
    "print(\"Recall :{}\".format(r))\n",
    "F = (2*tp)/(2*tp + fp + fn)\n",
    "print(\"F-measure :{}\".format(F))\n",
    "print(\"\\nCONFUSION MATRIX\")\n",
    "df_ots"
   ]
  },
  {
   "cell_type": "markdown",
   "metadata": {},
   "source": [
    "### ROC CURVE\n",
    "* We will plot the ROC curve for this "
   ]
  },
  {
   "cell_type": "code",
   "execution_count": 35,
   "metadata": {
    "collapsed": false
   },
   "outputs": [
    {
     "data": {
      "text/plain": [
       "<matplotlib.legend.Legend at 0x22f7d2e2b00>"
      ]
     },
     "execution_count": 35,
     "metadata": {},
     "output_type": "execute_result"
    },
    {
     "data": {
      "image/png": "[encoded data removed]",
      "text/plain": [
       "<matplotlib.figure.Figure at 0x22f7d23aa20>"
      ]
     },
     "metadata": {},
     "output_type": "display_data"
    }
   ],
   "source": [
    "from sklearn.metrics import roc_curve\n",
    "from sklearn.metrics import roc_auc_score\n",
    "fpr, tpr, thresholds = roc_curve(y_test, probas[:,1])\n",
    "roc_auc = roc_auc_score(y_test, ots_knn)\n",
    "plt.plot(fpr, tpr, label='ROC curve (area = %0.3f)' % roc_auc)\n",
    "plt.plot([0, 1], [0, 1], 'k--')  # random predictions curve\n",
    "plt.xlim([0.0, 1.0])\n",
    "plt.ylim([0.0, 1.0])\n",
    "plt.xlabel('False Positive Rate or (1 - Specifity)')\n",
    "plt.ylabel('True Positive Rate or (Sensitivity)')\n",
    "plt.title('Receiver Operating Characteristic for off-the-shelf classifier')\n",
    "plt.legend(loc=\"lower right\")"
   ]
  }
 ],
 "metadata": {
  "anaconda-cloud": {},
  "celltoolbar": "Raw Cell Format",
  "kernelspec": {
   "display_name": "Python [conda root]",
   "language": "python",
   "name": "conda-root-py"
  },
  "language_info": {
   "codemirror_mode": {
    "name": "ipython",
    "version": 3
   },
   "file_extension": ".py",
   "mimetype": "text/x-python",
   "name": "python",
   "nbconvert_exporter": "python",
   "pygments_lexer": "ipython3",
   "version": "3.5.2"
  }
 },
 "nbformat": 4,
 "nbformat_minor": 1
}
